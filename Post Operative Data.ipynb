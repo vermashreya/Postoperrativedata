{
 "cells": [
  {
   "cell_type": "markdown",
   "metadata": {},
   "source": [
    "Taking the data from http://archive.ics.uci.edu/ml/datasets/Post-Operative+Patient\n",
    "Data description-\n",
    "1. Data set characteristic - multivariate\n",
    "2. Attributes- Categorical, Integer\n",
    "3. Number of attributes- 8 (L-CORE, L-SURF, L-O2, L-BP, SURF-STBL, CORE-STBL, BP-STBL,COMFORT, ADM-DECS)\n",
    "4. Number of instances- 90\n",
    "5. Missing values- Present\n",
    "6. Task- Classification\n"
   ]
  },
  {
   "cell_type": "markdown",
   "metadata": {},
   "source": [
    "Some of the Preprocessing steps are-\n",
    "(https://towardsdatascience.com/introduction-to-data-preprocessing-in-machine-learning-a9fa83a5dc9d)\n",
    "1. Handle null values\n",
    "2. Standardization\n",
    "3. Handle Categorical Variable\n",
    "4. One hot encoding \n",
    "5. Multicollinearility\n",
    "\n",
    "\n",
    " 1. Handle Null values-\n",
    "check df.isnull or df.isnull().sum()\n",
    "using drop.na() to remove or you can impute using SimpleImputer or by median or interpolate()\n",
    "\n",
    " 2. Standardizaation-\n",
    "transform with mean 0 and s.d. 1\n",
    "so that more weightage is not given to one feature\n",
    "Use StandardScaler fro sklearn\n",
    "\n",
    "\n",
    " 3. Categorical Variable-\n",
    "2 types- \n",
    "a) Ordinal- can be ordered S < M < L\n",
    "use map() or LabelEncoder() from sklearn\n",
    "b) Nominal- Green, Red, Blue\n",
    "do not use mapping or label encoding for nominal, instead use-\n",
    " 4. One-hot encoding- for doing one-hot encoding use pd.get_dummies()\n",
    "\n",
    " 5. Multicollinearity - \n",
    "do a pair plot to see how two features are related to each other and how they impact each other\n",
    "or use a correlation matrix to see the relation\n",
    "drop_first() = True to avoid collinearity ( in pd.get_dummies) \n"
   ]
  },
  {
   "cell_type": "code",
   "execution_count": 1,
   "metadata": {},
   "outputs": [],
   "source": [
    "#performing preprocessing steps and visualization (using Seaborn) \n",
    "\n",
    "#Load the libraries\n",
    "import pandas as pd\n",
    "import numpy as np\n",
    "import matplotlib.pyplot as plt\n",
    "%matplotlib inline\n"
   ]
  },
  {
   "cell_type": "code",
   "execution_count": 2,
   "metadata": {},
   "outputs": [],
   "source": [
    "#load the data\n",
    "names = ['L-CORE', 'L-SURF', 'L-O2', 'L-BP', 'SURF-STBL', 'CORE-STBL', 'BP-STBL','COMFORT', 'ADM-DECS']\n",
    "postop = pd.read_csv(r\"C:\\Users\\shrey\\OneDrive\\Documents\\Biomedical Data ScienceFall19\\HW\\HW1\\post-operative.data\", names = names, sep =',' )"
   ]
  },
  {
   "cell_type": "code",
   "execution_count": 3,
   "metadata": {},
   "outputs": [
    {
     "data": {
      "text/html": [
       "<div>\n",
       "<style scoped>\n",
       "    .dataframe tbody tr th:only-of-type {\n",
       "        vertical-align: middle;\n",
       "    }\n",
       "\n",
       "    .dataframe tbody tr th {\n",
       "        vertical-align: top;\n",
       "    }\n",
       "\n",
       "    .dataframe thead th {\n",
       "        text-align: right;\n",
       "    }\n",
       "</style>\n",
       "<table border=\"1\" class=\"dataframe\">\n",
       "  <thead>\n",
       "    <tr style=\"text-align: right;\">\n",
       "      <th></th>\n",
       "      <th>L-CORE</th>\n",
       "      <th>L-SURF</th>\n",
       "      <th>L-O2</th>\n",
       "      <th>L-BP</th>\n",
       "      <th>SURF-STBL</th>\n",
       "      <th>CORE-STBL</th>\n",
       "      <th>BP-STBL</th>\n",
       "      <th>COMFORT</th>\n",
       "      <th>ADM-DECS</th>\n",
       "    </tr>\n",
       "  </thead>\n",
       "  <tbody>\n",
       "    <tr>\n",
       "      <th>0</th>\n",
       "      <td>mid</td>\n",
       "      <td>low</td>\n",
       "      <td>excellent</td>\n",
       "      <td>mid</td>\n",
       "      <td>stable</td>\n",
       "      <td>stable</td>\n",
       "      <td>stable</td>\n",
       "      <td>15</td>\n",
       "      <td>A</td>\n",
       "    </tr>\n",
       "    <tr>\n",
       "      <th>1</th>\n",
       "      <td>mid</td>\n",
       "      <td>high</td>\n",
       "      <td>excellent</td>\n",
       "      <td>high</td>\n",
       "      <td>stable</td>\n",
       "      <td>stable</td>\n",
       "      <td>stable</td>\n",
       "      <td>10</td>\n",
       "      <td>S</td>\n",
       "    </tr>\n",
       "    <tr>\n",
       "      <th>2</th>\n",
       "      <td>high</td>\n",
       "      <td>low</td>\n",
       "      <td>excellent</td>\n",
       "      <td>high</td>\n",
       "      <td>stable</td>\n",
       "      <td>stable</td>\n",
       "      <td>mod-stable</td>\n",
       "      <td>10</td>\n",
       "      <td>A</td>\n",
       "    </tr>\n",
       "    <tr>\n",
       "      <th>3</th>\n",
       "      <td>mid</td>\n",
       "      <td>low</td>\n",
       "      <td>good</td>\n",
       "      <td>high</td>\n",
       "      <td>stable</td>\n",
       "      <td>unstable</td>\n",
       "      <td>mod-stable</td>\n",
       "      <td>15</td>\n",
       "      <td>A</td>\n",
       "    </tr>\n",
       "    <tr>\n",
       "      <th>4</th>\n",
       "      <td>mid</td>\n",
       "      <td>mid</td>\n",
       "      <td>excellent</td>\n",
       "      <td>high</td>\n",
       "      <td>stable</td>\n",
       "      <td>stable</td>\n",
       "      <td>stable</td>\n",
       "      <td>10</td>\n",
       "      <td>A</td>\n",
       "    </tr>\n",
       "  </tbody>\n",
       "</table>\n",
       "</div>"
      ],
      "text/plain": [
       "  L-CORE L-SURF       L-O2  L-BP SURF-STBL CORE-STBL     BP-STBL  COMFORT  \\\n",
       "0    mid    low  excellent   mid    stable    stable      stable       15   \n",
       "1    mid   high  excellent  high    stable    stable      stable       10   \n",
       "2   high    low  excellent  high    stable    stable  mod-stable       10   \n",
       "3    mid    low       good  high    stable  unstable  mod-stable       15   \n",
       "4    mid    mid  excellent  high    stable    stable      stable       10   \n",
       "\n",
       "  ADM-DECS  \n",
       "0        A  \n",
       "1        S  \n",
       "2        A  \n",
       "3       A   \n",
       "4        A  "
      ]
     },
     "execution_count": 3,
     "metadata": {},
     "output_type": "execute_result"
    }
   ],
   "source": [
    "postop.head()"
   ]
  },
  {
   "cell_type": "code",
   "execution_count": 4,
   "metadata": {},
   "outputs": [
    {
     "name": "stdout",
     "output_type": "stream",
     "text": [
      "<class 'pandas.core.frame.DataFrame'>\n",
      "RangeIndex: 90 entries, 0 to 89\n",
      "Data columns (total 9 columns):\n",
      " #   Column     Non-Null Count  Dtype \n",
      "---  ------     --------------  ----- \n",
      " 0   L-CORE     90 non-null     object\n",
      " 1   L-SURF     90 non-null     object\n",
      " 2   L-O2       90 non-null     object\n",
      " 3   L-BP       90 non-null     object\n",
      " 4   SURF-STBL  90 non-null     object\n",
      " 5   CORE-STBL  90 non-null     object\n",
      " 6   BP-STBL    90 non-null     object\n",
      " 7   COMFORT    90 non-null     int64 \n",
      " 8   ADM-DECS   90 non-null     object\n",
      "dtypes: int64(1), object(8)\n",
      "memory usage: 6.5+ KB\n"
     ]
    }
   ],
   "source": [
    "postop.info()"
   ]
  },
  {
   "cell_type": "code",
   "execution_count": 5,
   "metadata": {},
   "outputs": [
    {
     "data": {
      "text/plain": [
       "L-CORE       0\n",
       "L-SURF       0\n",
       "L-O2         0\n",
       "L-BP         0\n",
       "SURF-STBL    0\n",
       "CORE-STBL    0\n",
       "BP-STBL      0\n",
       "COMFORT      0\n",
       "ADM-DECS     0\n",
       "dtype: int64"
      ]
     },
     "execution_count": 5,
     "metadata": {},
     "output_type": "execute_result"
    }
   ],
   "source": [
    "#see the null or NaN values in the columns\n",
    "postop.isnull().sum()\n"
   ]
  },
  {
   "cell_type": "code",
   "execution_count": 6,
   "metadata": {},
   "outputs": [
    {
     "data": {
      "text/plain": [
       "True"
      ]
     },
     "execution_count": 6,
     "metadata": {},
     "output_type": "execute_result"
    }
   ],
   "source": [
    "#check if there is a zero in the data values\n",
    "0 in postop.values"
   ]
  },
  {
   "cell_type": "code",
   "execution_count": 7,
   "metadata": {},
   "outputs": [
    {
     "data": {
      "text/html": [
       "<div>\n",
       "<style scoped>\n",
       "    .dataframe tbody tr th:only-of-type {\n",
       "        vertical-align: middle;\n",
       "    }\n",
       "\n",
       "    .dataframe tbody tr th {\n",
       "        vertical-align: top;\n",
       "    }\n",
       "\n",
       "    .dataframe thead th {\n",
       "        text-align: right;\n",
       "    }\n",
       "</style>\n",
       "<table border=\"1\" class=\"dataframe\">\n",
       "  <thead>\n",
       "    <tr style=\"text-align: right;\">\n",
       "      <th></th>\n",
       "      <th>L-CORE</th>\n",
       "      <th>L-SURF</th>\n",
       "      <th>L-O2</th>\n",
       "      <th>L-BP</th>\n",
       "      <th>SURF-STBL</th>\n",
       "      <th>CORE-STBL</th>\n",
       "      <th>BP-STBL</th>\n",
       "      <th>COMFORT</th>\n",
       "      <th>ADM-DECS</th>\n",
       "    </tr>\n",
       "  </thead>\n",
       "  <tbody>\n",
       "    <tr>\n",
       "      <th>46</th>\n",
       "      <td>low</td>\n",
       "      <td>mid</td>\n",
       "      <td>good</td>\n",
       "      <td>high</td>\n",
       "      <td>unstable</td>\n",
       "      <td>stable</td>\n",
       "      <td>stable</td>\n",
       "      <td>0</td>\n",
       "      <td>I</td>\n",
       "    </tr>\n",
       "    <tr>\n",
       "      <th>48</th>\n",
       "      <td>high</td>\n",
       "      <td>high</td>\n",
       "      <td>excellent</td>\n",
       "      <td>high</td>\n",
       "      <td>stable</td>\n",
       "      <td>stable</td>\n",
       "      <td>unstable</td>\n",
       "      <td>0</td>\n",
       "      <td>A</td>\n",
       "    </tr>\n",
       "    <tr>\n",
       "      <th>70</th>\n",
       "      <td>mid</td>\n",
       "      <td>low</td>\n",
       "      <td>excellent</td>\n",
       "      <td>mid</td>\n",
       "      <td>unstable</td>\n",
       "      <td>unstable</td>\n",
       "      <td>unstable</td>\n",
       "      <td>0</td>\n",
       "      <td>A</td>\n",
       "    </tr>\n",
       "  </tbody>\n",
       "</table>\n",
       "</div>"
      ],
      "text/plain": [
       "   L-CORE L-SURF       L-O2  L-BP SURF-STBL CORE-STBL   BP-STBL  COMFORT  \\\n",
       "46    low    mid       good  high  unstable    stable    stable        0   \n",
       "48   high   high  excellent  high    stable    stable  unstable        0   \n",
       "70    mid    low  excellent   mid  unstable  unstable  unstable        0   \n",
       "\n",
       "   ADM-DECS  \n",
       "46        I  \n",
       "48        A  \n",
       "70        A  "
      ]
     },
     "execution_count": 7,
     "metadata": {},
     "output_type": "execute_result"
    }
   ],
   "source": [
    "#see which locations have 0\n",
    "postop_zero = postop.loc[postop['COMFORT'] == 0]\n",
    "postop_zero\n"
   ]
  },
  {
   "cell_type": "code",
   "execution_count": 8,
   "metadata": {},
   "outputs": [
    {
     "name": "stdout",
     "output_type": "stream",
     "text": [
      "<class 'pandas.core.frame.DataFrame'>\n",
      "Int64Index: 87 entries, 0 to 89\n",
      "Data columns (total 9 columns):\n",
      " #   Column     Non-Null Count  Dtype \n",
      "---  ------     --------------  ----- \n",
      " 0   L-CORE     87 non-null     object\n",
      " 1   L-SURF     87 non-null     object\n",
      " 2   L-O2       87 non-null     object\n",
      " 3   L-BP       87 non-null     object\n",
      " 4   SURF-STBL  87 non-null     object\n",
      " 5   CORE-STBL  87 non-null     object\n",
      " 6   BP-STBL    87 non-null     object\n",
      " 7   COMFORT    87 non-null     int64 \n",
      " 8   ADM-DECS   87 non-null     object\n",
      "dtypes: int64(1), object(8)\n",
      "memory usage: 6.8+ KB\n"
     ]
    }
   ],
   "source": [
    "#if you want to remove rows with zeroes in them\n",
    "newpostop = postop.loc[postop['COMFORT'] != 0]\n",
    "newpostop.info()\n",
    "#3rows removed "
   ]
  },
  {
   "cell_type": "code",
   "execution_count": 9,
   "metadata": {},
   "outputs": [
    {
     "data": {
      "text/plain": [
       "L-CORE             mid\n",
       "L-SURF             low\n",
       "L-O2         excellent\n",
       "L-BP               mid\n",
       "SURF-STBL     unstable\n",
       "CORE-STBL     unstable\n",
       "BP-STBL       unstable\n",
       "COMFORT              0\n",
       "ADM-DECS             A\n",
       "Name: 70, dtype: object"
      ]
     },
     "execution_count": 9,
     "metadata": {},
     "output_type": "execute_result"
    }
   ],
   "source": [
    "#location 70 in comfort has zero value, check the value at 70th row\n",
    "postop.loc[70]\n",
    "#we can see COMFORT is 0 at this position, let's replace it wwith the mean"
   ]
  },
  {
   "cell_type": "code",
   "execution_count": 10,
   "metadata": {},
   "outputs": [],
   "source": [
    "#there were no NaN values, see if the missing values have been replaced by any special signs or symbols\n",
    "postop['COMFORT'] = postop['COMFORT'].replace(0, postop['COMFORT'].mean())"
   ]
  },
  {
   "cell_type": "code",
   "execution_count": 11,
   "metadata": {},
   "outputs": [
    {
     "data": {
      "text/plain": [
       "L-CORE             mid\n",
       "L-SURF             low\n",
       "L-O2         excellent\n",
       "L-BP               mid\n",
       "SURF-STBL     unstable\n",
       "CORE-STBL     unstable\n",
       "BP-STBL       unstable\n",
       "COMFORT        10.5778\n",
       "ADM-DECS             A\n",
       "Name: 70, dtype: object"
      ]
     },
     "execution_count": 11,
     "metadata": {},
     "output_type": "execute_result"
    }
   ],
   "source": [
    "postop.loc[70]"
   ]
  },
  {
   "cell_type": "code",
   "execution_count": 12,
   "metadata": {},
   "outputs": [],
   "source": [
    "#After replacing the zero values with mean, let's do the next preprocessing steps\n",
    "#Convert the categorical data \n",
    "#To convert the ordinal data, let's use label encoder\n",
    "#All the categorical data for us here is ordinal, so we will either be using map() or LabelEncoder()\n"
   ]
  },
  {
   "cell_type": "code",
   "execution_count": 13,
   "metadata": {},
   "outputs": [],
   "source": [
    "#Using map() for L-Core\n",
    "temp_map = {'high' : 3, 'mid' : 2,'low' : 1}\n",
    "postop['L-CORE'] = postop['L-CORE'].map(temp_map)\n"
   ]
  },
  {
   "cell_type": "code",
   "execution_count": 14,
   "metadata": {},
   "outputs": [],
   "source": [
    "#for L-SURF\n",
    "postop['L-SURF'] = postop['L-SURF'].map(temp_map)"
   ]
  },
  {
   "cell_type": "code",
   "execution_count": 15,
   "metadata": {},
   "outputs": [],
   "source": [
    "#for L-o2\n",
    "temp_map2 = {'excellent' : 2, 'good' : 1}\n",
    "postop['L-O2'] = postop['L-O2'].map(temp_map2)"
   ]
  },
  {
   "cell_type": "code",
   "execution_count": 16,
   "metadata": {},
   "outputs": [],
   "source": [
    "#for L-BP\n",
    "postop['L-BP'] = postop['L-BP'].map(temp_map)"
   ]
  },
  {
   "cell_type": "code",
   "execution_count": 17,
   "metadata": {},
   "outputs": [],
   "source": [
    "#for SURF-STBL\n",
    "stable_map = {'stable' : 3, 'mod-stable' : 2, 'unstable' : 1}\n",
    "postop['SURF-STBL'] = postop['SURF-STBL'].map(stable_map)"
   ]
  },
  {
   "cell_type": "code",
   "execution_count": 18,
   "metadata": {},
   "outputs": [],
   "source": [
    "postop['CORE-STBL'] = postop['CORE-STBL'].map(stable_map)"
   ]
  },
  {
   "cell_type": "code",
   "execution_count": 19,
   "metadata": {},
   "outputs": [],
   "source": [
    "postop['BP-STBL'] = postop['BP-STBL'].map(stable_map)"
   ]
  },
  {
   "cell_type": "code",
   "execution_count": 20,
   "metadata": {},
   "outputs": [
    {
     "name": "stdout",
     "output_type": "stream",
     "text": [
      "<class 'pandas.core.frame.DataFrame'>\n",
      "RangeIndex: 90 entries, 0 to 89\n",
      "Data columns (total 9 columns):\n",
      " #   Column     Non-Null Count  Dtype  \n",
      "---  ------     --------------  -----  \n",
      " 0   L-CORE     90 non-null     int64  \n",
      " 1   L-SURF     90 non-null     int64  \n",
      " 2   L-O2       90 non-null     int64  \n",
      " 3   L-BP       90 non-null     int64  \n",
      " 4   SURF-STBL  90 non-null     int64  \n",
      " 5   CORE-STBL  90 non-null     int64  \n",
      " 6   BP-STBL    90 non-null     int64  \n",
      " 7   COMFORT    90 non-null     float64\n",
      " 8   ADM-DECS   90 non-null     object \n",
      "dtypes: float64(1), int64(7), object(1)\n",
      "memory usage: 6.5+ KB\n"
     ]
    }
   ],
   "source": [
    "postop.info()"
   ]
  },
  {
   "cell_type": "code",
   "execution_count": 21,
   "metadata": {},
   "outputs": [
    {
     "data": {
      "text/plain": [
       "array(['A', 'S', 'A', 'A ', 'A', 'S', 'S', 'S', 'S', 'S', 'A', 'A', 'A',\n",
       "       'A', 'S', 'A', 'A', 'A', 'A', 'A', 'A', 'S', 'A', 'A', 'A', 'A',\n",
       "       'A', 'A', 'A', 'S', 'A', 'A', 'A', 'A', 'A', 'A', 'S', 'S', 'S',\n",
       "       'A', 'A', 'S', 'S', 'S', 'A', 'S', 'I', 'A', 'A', 'A', 'A', 'A',\n",
       "       'A', 'S', 'A', 'A', 'A', 'A', 'A', 'A', 'A', 'A', 'A', 'S', 'A',\n",
       "       'S', 'A', 'A', 'A', 'A', 'A', 'A', 'S', 'A', 'A', 'A', 'A', 'A',\n",
       "       'S', 'A', 'A', 'S', 'I', 'A', 'A', 'A', 'S', 'A', 'A', 'S'],\n",
       "      dtype=object)"
      ]
     },
     "execution_count": 21,
     "metadata": {},
     "output_type": "execute_result"
    }
   ],
   "source": [
    "postop['ADM-DECS'].values\n"
   ]
  },
  {
   "cell_type": "code",
   "execution_count": 22,
   "metadata": {},
   "outputs": [
    {
     "data": {
      "text/plain": [
       "array([2, 2, 3, 2, 2, 3, 2, 3, 2, 2, 2, 2, 3, 2, 2, 3, 1, 2, 2, 2, 1, 1,\n",
       "       2, 2, 3, 1, 3, 1, 2, 2, 2, 1, 2, 2, 1, 2, 1, 1, 1, 2, 1, 1, 3, 2,\n",
       "       1, 1, 1, 2, 3, 2, 2, 1, 2, 2, 3, 2, 3, 2, 1, 2, 2, 2, 2, 2, 3, 2,\n",
       "       2, 2, 2, 2, 2, 1, 2, 2, 2, 1, 2, 2, 2, 2, 2, 2, 2, 3, 2, 2, 2, 2,\n",
       "       2, 2], dtype=int64)"
      ]
     },
     "execution_count": 22,
     "metadata": {},
     "output_type": "execute_result"
    }
   ],
   "source": [
    "postop['L-CORE'].values\n"
   ]
  },
  {
   "cell_type": "code",
   "execution_count": 23,
   "metadata": {},
   "outputs": [
    {
     "data": {
      "image/png": "[encoded data removed]",
      "text/plain": [
       "<Figure size 432x288 with 1 Axes>"
      ]
     },
     "metadata": {
      "needs_background": "light"
     },
     "output_type": "display_data"
    }
   ],
   "source": [
    "import seaborn as sns\n",
    "plot1  = sns.barplot(x = \"ADM-DECS\" , y = 'L-CORE', data = postop)"
   ]
  },
  {
   "cell_type": "markdown",
   "metadata": {},
   "source": [
    "The barplot between ADM-DECS and L-CORE\n",
    "For L-CORE\n",
    "#high- 3, mid -2, low -1\n",
    "For ADM-DECS\n",
    "#I (patient sent to Intensive Care Unit),S (patient prepared to go home), A (patient sent to general hospital floor)\n",
    "As we can see in the graph, patients with L-CORE of 1 (low temperature), were sent to ICU\n",
    "patients with mid, around 2 were referred to general"
   ]
  },
  {
   "cell_type": "code",
   "execution_count": 24,
   "metadata": {},
   "outputs": [
    {
     "data": {
      "image/png": "[encoded data removed]",
      "text/plain": [
       "<Figure size 432x288 with 1 Axes>"
      ]
     },
     "metadata": {
      "needs_background": "light"
     },
     "output_type": "display_data"
    }
   ],
   "source": [
    "plot2  = sns.barplot(x = \"ADM-DECS\" , y = 'L-SURF', data = postop)"
   ]
  },
  {
   "cell_type": "code",
   "execution_count": 25,
   "metadata": {},
   "outputs": [
    {
     "data": {
      "image/png": "[encoded data removed]",
      "text/plain": [
       "<Figure size 432x288 with 1 Axes>"
      ]
     },
     "metadata": {
      "needs_background": "light"
     },
     "output_type": "display_data"
    }
   ],
   "source": [
    "plot3  = sns.barplot(x = \"ADM-DECS\" , y = 'L-O2', data = postop)"
   ]
  },
  {
   "cell_type": "code",
   "execution_count": 26,
   "metadata": {},
   "outputs": [
    {
     "data": {
      "image/png": "[encoded data removed]",
      "text/plain": [
       "<Figure size 432x288 with 1 Axes>"
      ]
     },
     "metadata": {
      "needs_background": "light"
     },
     "output_type": "display_data"
    }
   ],
   "source": [
    "plot3  = sns.pointplot(x = \"ADM-DECS\" , y = 'L-O2', data = postop)"
   ]
  },
  {
   "cell_type": "code",
   "execution_count": 27,
   "metadata": {},
   "outputs": [
    {
     "data": {
      "image/png": "[encoded data removed]",
      "text/plain": [
       "<Figure size 432x288 with 1 Axes>"
      ]
     },
     "metadata": {
      "needs_background": "light"
     },
     "output_type": "display_data"
    }
   ],
   "source": [
    "plot3  = sns.barplot(x = \"ADM-DECS\" , y = 'COMFORT', data = postop)"
   ]
  },
  {
   "cell_type": "code",
   "execution_count": 28,
   "metadata": {},
   "outputs": [
    {
     "data": {
      "text/plain": [
       "array([0, 3, 0, 1, 0, 3, 3, 3, 3, 3, 0, 0, 0, 0, 3, 0, 0, 0, 0, 0, 0, 3,\n",
       "       0, 0, 0, 0, 0, 0, 0, 3, 0, 0, 0, 0, 0, 0, 3, 3, 3, 0, 0, 3, 3, 3,\n",
       "       0, 3, 2, 0, 0, 0, 0, 0, 0, 3, 0, 0, 0, 0, 0, 0, 0, 0, 0, 3, 0, 3,\n",
       "       0, 0, 0, 0, 0, 0, 3, 0, 0, 0, 0, 0, 3, 0, 0, 3, 2, 0, 0, 0, 3, 0,\n",
       "       0, 3])"
      ]
     },
     "execution_count": 28,
     "metadata": {},
     "output_type": "execute_result"
    }
   ],
   "source": [
    "from sklearn.preprocessing import LabelEncoder\n",
    "\n",
    "le = LabelEncoder()\n",
    "y = le.fit_transform(postop[\"ADM-DECS\"].values)\n",
    "y\n",
    "    "
   ]
  },
  {
   "cell_type": "code",
   "execution_count": 29,
   "metadata": {},
   "outputs": [
    {
     "data": {
      "text/plain": [
       "array(['A', 'S', 'A', 'A ', 'A', 'S', 'S', 'S', 'S', 'S', 'A', 'A', 'A',\n",
       "       'A', 'S', 'A', 'A', 'A', 'A', 'A', 'A', 'S', 'A', 'A', 'A', 'A',\n",
       "       'A', 'A', 'A', 'S', 'A', 'A', 'A', 'A', 'A', 'A', 'S', 'S', 'S',\n",
       "       'A', 'A', 'S', 'S', 'S', 'A', 'S', 'I', 'A', 'A', 'A', 'A', 'A',\n",
       "       'A', 'S', 'A', 'A', 'A', 'A', 'A', 'A', 'A', 'A', 'A', 'S', 'A',\n",
       "       'S', 'A', 'A', 'A', 'A', 'A', 'A', 'S', 'A', 'A', 'A', 'A', 'A',\n",
       "       'S', 'A', 'A', 'S', 'I', 'A', 'A', 'A', 'S', 'A', 'A', 'S'],\n",
       "      dtype=object)"
      ]
     },
     "execution_count": 29,
     "metadata": {},
     "output_type": "execute_result"
    }
   ],
   "source": [
    "le.inverse_transform(y)"
   ]
  },
  {
   "cell_type": "code",
   "execution_count": 30,
   "metadata": {},
   "outputs": [],
   "source": [
    "from sklearn.neighbors import KNeighborsClassifier\n",
    "from sklearn import metrics"
   ]
  },
  {
   "cell_type": "code",
   "execution_count": 31,
   "metadata": {},
   "outputs": [
    {
     "name": "stdout",
     "output_type": "stream",
     "text": [
      "<class 'pandas.core.frame.DataFrame'>\n",
      "RangeIndex: 90 entries, 0 to 89\n",
      "Data columns (total 8 columns):\n",
      " #   Column     Non-Null Count  Dtype  \n",
      "---  ------     --------------  -----  \n",
      " 0   L-CORE     90 non-null     int64  \n",
      " 1   L-SURF     90 non-null     int64  \n",
      " 2   L-O2       90 non-null     int64  \n",
      " 3   L-BP       90 non-null     int64  \n",
      " 4   SURF-STBL  90 non-null     int64  \n",
      " 5   CORE-STBL  90 non-null     int64  \n",
      " 6   BP-STBL    90 non-null     int64  \n",
      " 7   COMFORT    90 non-null     float64\n",
      "dtypes: float64(1), int64(7)\n",
      "memory usage: 5.8 KB\n"
     ]
    }
   ],
   "source": [
    "X=postop.drop(\"ADM-DECS\",axis=1)\n",
    "X.info()"
   ]
  },
  {
   "cell_type": "code",
   "execution_count": 32,
   "metadata": {},
   "outputs": [
    {
     "data": {
      "text/plain": [
       "(90, 8)"
      ]
     },
     "execution_count": 32,
     "metadata": {},
     "output_type": "execute_result"
    }
   ],
   "source": [
    "X.shape"
   ]
  },
  {
   "cell_type": "code",
   "execution_count": 33,
   "metadata": {},
   "outputs": [
    {
     "data": {
      "text/plain": [
       "(90,)"
      ]
     },
     "execution_count": 33,
     "metadata": {},
     "output_type": "execute_result"
    }
   ],
   "source": [
    "y.shape\n"
   ]
  },
  {
   "cell_type": "code",
   "execution_count": 34,
   "metadata": {},
   "outputs": [],
   "source": [
    "#Split the data into training and testing\n",
    "from sklearn.model_selection import train_test_split\n",
    "\n",
    "def data_part(X, y, split_size) :\n",
    "    \n",
    "    \n",
    "    \n",
    "    X_train, X_test, y_train, y_test = train_test_split(X, y,\n",
    "                                                        test_size = split_size)\n",
    "    print(X_train.shape)\n",
    "    print(X_test.shape)\n",
    "    print(y_train.shape)\n",
    "    print(y_test.shape)\n",
    "    \n",
    "    return X_train, X_test, y_train, y_test"
   ]
  },
  {
   "cell_type": "code",
   "execution_count": 35,
   "metadata": {},
   "outputs": [
    {
     "name": "stdout",
     "output_type": "stream",
     "text": [
      "(63, 8)\n",
      "(27, 8)\n",
      "(63,)\n",
      "(27,)\n"
     ]
    }
   ],
   "source": [
    "#Reference: https://towardsdatascience.com/building-a-simple-machine-learning-model-on-breast-cancer-data-eca4b3b99fa3\n",
    "X_train, X_test, y_train, y_test=data_part(X,y,split_size=0.3)"
   ]
  },
  {
   "cell_type": "code",
   "execution_count": null,
   "metadata": {},
   "outputs": [],
   "source": []
  },
  {
   "cell_type": "markdown",
   "metadata": {},
   "source": [
    " OR you can try this, without making function\n",
    "from sklearn.model_selection import train_test_split\n",
    "X_train, X_test, y_train, y_test = train_test_split(X, y, test_size = 0.25, random_state = 0)\n",
    "X_train.shape\n",
    "X_test.shape\n",
    "y_train.shape\n",
    "y_test.shape"
   ]
  },
  {
   "cell_type": "code",
   "execution_count": 36,
   "metadata": {},
   "outputs": [],
   "source": [
    "#Now we do Standardization, transforming the data to the same scale\n",
    "#Feature Scaling, do this on the features not label\n",
    "\n",
    "from sklearn.preprocessing import StandardScaler\n",
    "sc = StandardScaler()\n",
    "X_train = sc.fit_transform(X_train)\n",
    "X_test = sc.transform(X_test)\n"
   ]
  },
  {
   "cell_type": "code",
   "execution_count": 37,
   "metadata": {},
   "outputs": [
    {
     "data": {
      "text/plain": [
       "KNeighborsClassifier(algorithm='auto', leaf_size=30, metric='minkowski',\n",
       "                     metric_params=None, n_jobs=None, n_neighbors=3, p=2,\n",
       "                     weights='uniform')"
      ]
     },
     "execution_count": 37,
     "metadata": {},
     "output_type": "execute_result"
    }
   ],
   "source": [
    "from sklearn.neighbors import KNeighborsClassifier\n",
    "classifier = KNeighborsClassifier(n_neighbors = 3, metric = 'minkowski', p = 2)\n",
    "classifier.fit(X_train, y_train)"
   ]
  },
  {
   "cell_type": "code",
   "execution_count": 38,
   "metadata": {},
   "outputs": [],
   "source": [
    "y_pred = classifier.predict(X_test)"
   ]
  },
  {
   "cell_type": "code",
   "execution_count": 39,
   "metadata": {},
   "outputs": [],
   "source": [
    "from sklearn.metrics import confusion_matrix\n",
    "cm = confusion_matrix(y_test, y_pred)"
   ]
  },
  {
   "cell_type": "code",
   "execution_count": 40,
   "metadata": {},
   "outputs": [
    {
     "data": {
      "text/plain": [
       "array([[14,  0,  0,  5],\n",
       "       [ 0,  0,  0,  1],\n",
       "       [ 2,  0,  0,  0],\n",
       "       [ 4,  0,  0,  1]], dtype=int64)"
      ]
     },
     "execution_count": 40,
     "metadata": {},
     "output_type": "execute_result"
    }
   ],
   "source": [
    "cm"
   ]
  },
  {
   "cell_type": "code",
   "execution_count": 41,
   "metadata": {},
   "outputs": [
    {
     "name": "stdout",
     "output_type": "stream",
     "text": [
      "              precision    recall  f1-score   support\n",
      "\n",
      "           0       0.70      0.74      0.72        19\n",
      "           1       0.00      0.00      0.00         1\n",
      "           2       0.00      0.00      0.00         2\n",
      "           3       0.14      0.20      0.17         5\n",
      "\n",
      "    accuracy                           0.56        27\n",
      "   macro avg       0.21      0.23      0.22        27\n",
      "weighted avg       0.52      0.56      0.54        27\n",
      "\n",
      "[[14  0  0  5]\n",
      " [ 0  0  0  1]\n",
      " [ 2  0  0  0]\n",
      " [ 4  0  0  1]]\n"
     ]
    },
    {
     "name": "stderr",
     "output_type": "stream",
     "text": [
      "C:\\Users\\shrey\\anaconda3\\lib\\site-packages\\sklearn\\metrics\\_classification.py:1272: UndefinedMetricWarning: Precision and F-score are ill-defined and being set to 0.0 in labels with no predicted samples. Use `zero_division` parameter to control this behavior.\n",
      "  _warn_prf(average, modifier, msg_start, len(result))\n"
     ]
    }
   ],
   "source": [
    "print(metrics.classification_report(y_test, y_pred))\n",
    "print(metrics.confusion_matrix(y_test, y_pred))"
   ]
  },
  {
   "cell_type": "code",
   "execution_count": 42,
   "metadata": {},
   "outputs": [
    {
     "data": {
      "text/plain": [
       "DecisionTreeClassifier(ccp_alpha=0.0, class_weight=None, criterion='entropy',\n",
       "                       max_depth=None, max_features=None, max_leaf_nodes=None,\n",
       "                       min_impurity_decrease=0.0, min_impurity_split=None,\n",
       "                       min_samples_leaf=1, min_samples_split=2,\n",
       "                       min_weight_fraction_leaf=0.0, presort='deprecated',\n",
       "                       random_state=0, splitter='best')"
      ]
     },
     "execution_count": 42,
     "metadata": {},
     "output_type": "execute_result"
    }
   ],
   "source": [
    "from sklearn.tree import DecisionTreeClassifier\n",
    "classifier2 = DecisionTreeClassifier(criterion = 'entropy', random_state = 0)\n",
    "classifier2.fit(X_train, y_train)"
   ]
  },
  {
   "cell_type": "code",
   "execution_count": 43,
   "metadata": {},
   "outputs": [],
   "source": [
    "y_pred2 = classifier2.predict(X_test)"
   ]
  },
  {
   "cell_type": "code",
   "execution_count": 44,
   "metadata": {},
   "outputs": [
    {
     "name": "stdout",
     "output_type": "stream",
     "text": [
      "              precision    recall  f1-score   support\n",
      "\n",
      "           0       0.78      0.95      0.86        19\n",
      "           1       0.00      0.00      0.00         1\n",
      "           2       0.00      0.00      0.00         2\n",
      "           3       0.50      0.40      0.44         5\n",
      "\n",
      "    accuracy                           0.74        27\n",
      "   macro avg       0.32      0.34      0.33        27\n",
      "weighted avg       0.64      0.74      0.69        27\n",
      "\n",
      "[[18  0  0  1]\n",
      " [ 1  0  0  0]\n",
      " [ 1  0  0  1]\n",
      " [ 3  0  0  2]]\n"
     ]
    },
    {
     "name": "stderr",
     "output_type": "stream",
     "text": [
      "C:\\Users\\shrey\\anaconda3\\lib\\site-packages\\sklearn\\metrics\\_classification.py:1272: UndefinedMetricWarning: Precision and F-score are ill-defined and being set to 0.0 in labels with no predicted samples. Use `zero_division` parameter to control this behavior.\n",
      "  _warn_prf(average, modifier, msg_start, len(result))\n"
     ]
    }
   ],
   "source": [
    "print(metrics.classification_report(y_test, y_pred2))\n",
    "print(metrics.confusion_matrix(y_test, y_pred2))"
   ]
  },
  {
   "cell_type": "code",
   "execution_count": 45,
   "metadata": {},
   "outputs": [
    {
     "data": {
      "text/plain": [
       "LogisticRegression(C=1.0, class_weight=None, dual=False, fit_intercept=True,\n",
       "                   intercept_scaling=1, l1_ratio=None, max_iter=100,\n",
       "                   multi_class='auto', n_jobs=None, penalty='l2',\n",
       "                   random_state=0, solver='lbfgs', tol=0.0001, verbose=0,\n",
       "                   warm_start=False)"
      ]
     },
     "execution_count": 45,
     "metadata": {},
     "output_type": "execute_result"
    }
   ],
   "source": [
    " from sklearn.linear_model import LogisticRegression\n",
    "classifier3 = LogisticRegression(random_state = 0)\n",
    "classifier3.fit(X_train, y_train)\n"
   ]
  },
  {
   "cell_type": "code",
   "execution_count": 46,
   "metadata": {},
   "outputs": [],
   "source": [
    "y_pred3 = classifier2.predict(X_test)"
   ]
  },
  {
   "cell_type": "code",
   "execution_count": 47,
   "metadata": {},
   "outputs": [
    {
     "name": "stdout",
     "output_type": "stream",
     "text": [
      "              precision    recall  f1-score   support\n",
      "\n",
      "           0       0.78      0.95      0.86        19\n",
      "           1       0.00      0.00      0.00         1\n",
      "           2       0.00      0.00      0.00         2\n",
      "           3       0.50      0.40      0.44         5\n",
      "\n",
      "    accuracy                           0.74        27\n",
      "   macro avg       0.32      0.34      0.33        27\n",
      "weighted avg       0.64      0.74      0.69        27\n",
      "\n",
      "[[18  0  0  1]\n",
      " [ 1  0  0  0]\n",
      " [ 1  0  0  1]\n",
      " [ 3  0  0  2]]\n"
     ]
    },
    {
     "name": "stderr",
     "output_type": "stream",
     "text": [
      "C:\\Users\\shrey\\anaconda3\\lib\\site-packages\\sklearn\\metrics\\_classification.py:1272: UndefinedMetricWarning: Precision and F-score are ill-defined and being set to 0.0 in labels with no predicted samples. Use `zero_division` parameter to control this behavior.\n",
      "  _warn_prf(average, modifier, msg_start, len(result))\n"
     ]
    }
   ],
   "source": [
    "print(metrics.classification_report(y_test, y_pred3))\n",
    "print(metrics.confusion_matrix(y_test, y_pred3))"
   ]
  },
  {
   "cell_type": "code",
   "execution_count": null,
   "metadata": {},
   "outputs": [],
   "source": []
  }
 ],
 "metadata": {
  "kernelspec": {
   "display_name": "Python 3",
   "language": "python",
   "name": "python3"
  },
  "language_info": {
   "codemirror_mode": {
    "name": "ipython",
    "version": 3
   },
   "file_extension": ".py",
   "mimetype": "text/x-python",
   "name": "python",
   "nbconvert_exporter": "python",
   "pygments_lexer": "ipython3",
   "version": "3.7.6"
  }
 },
 "nbformat": 4,
 "nbformat_minor": 4
}
